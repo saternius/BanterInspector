{
 "cells": [
  {
   "cell_type": "code",
   "execution_count": null,
   "id": "cd807cca",
   "metadata": {},
   "outputs": [
    {
     "name": "stdout",
     "output_type": "stream",
     "text": [
      "Got response: {'blocks': ['This is an example input to test if the system is working. It should return something at the very least.'], 'processing_time_ms': 1384}\n"
     ]
    }
   ],
   "source": [
    "import requests\n",
    "#url = \"http://localhost:5000/process-text\"\n",
    "#url = \"http://localhost:9909/api/process-text\"\n",
    "url = \"https://1f1ee2d85756.ngrok-free.app/api/process-text\"\n",
    "payload = {\n",
    "    \"text\": \"This is an example input to test if the system is working. It should returns something at the very least\",\n",
    "    \"existing_blocks\": []\n",
    "}\n",
    "headers = {\n",
    "    \"Content-Type\": \"application/json\"\n",
    "}\n",
    "\n",
    "response = requests.post(url, json=payload, headers=headers, timeout=10)\n",
    "response.raise_for_status()  # raises an exception for 4xx/5xx responses\n",
    "data = response.json()\n",
    "print(\"Got response:\", data)"
   ]
  }
 ],
 "metadata": {
  "kernelspec": {
   "display_name": "Python 3",
   "language": "python",
   "name": "python3"
  },
  "language_info": {
   "codemirror_mode": {
    "name": "ipython",
    "version": 3
   },
   "file_extension": ".py",
   "mimetype": "text/x-python",
   "name": "python",
   "nbconvert_exporter": "python",
   "pygments_lexer": "ipython3",
   "version": "3.7.9"
  }
 },
 "nbformat": 4,
 "nbformat_minor": 5
}
